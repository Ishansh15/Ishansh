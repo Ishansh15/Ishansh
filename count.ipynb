{
 "cells": [
  {
   "cell_type": "code",
   "execution_count": 1,
   "metadata": {},
   "outputs": [],
   "source": [
    "import sys"
   ]
  },
  {
   "cell_type": "code",
   "execution_count": 2,
   "metadata": {},
   "outputs": [],
   "source": [
    "import re\n",
    "import string"
   ]
  },
  {
   "cell_type": "code",
   "execution_count": 4,
   "metadata": {},
   "outputs": [],
   "source": [
    "file = open('demo.txt', 'r')\n",
    "lines = file.read().lower()\n",
    "pattern = re.findall(r'[a-z0-9]+',lines)"
   ]
  },
  {
   "cell_type": "code",
   "execution_count": 5,
   "metadata": {},
   "outputs": [],
   "source": [
    "frequency = dict()\n",
    "for word in pattern:\n",
    "    count=frequency.get(word,0)\n",
    "    frequency[word]=count+1\n",
    "counts= frequency.keys()    "
   ]
  },
  {
   "cell_type": "code",
   "execution_count": 6,
   "metadata": {},
   "outputs": [
    {
     "name": "stdout",
     "output_type": "stream",
     "text": [
      "apache 1\n",
      "hadoop 3\n",
      "is 1\n",
      "an 1\n",
      "open 1\n",
      "source 1\n",
      "software 1\n",
      "framework 1\n",
      "for 1\n",
      "storage 1\n",
      "and 2\n",
      "large 1\n",
      "scale 1\n",
      "processing 1\n",
      "of 2\n",
      "data 1\n",
      "sets 1\n",
      "on 1\n",
      "clusters 1\n",
      "commodity 1\n",
      "hardware 1\n",
      "common 1\n",
      "contains 1\n",
      "libraries 1\n",
      "utilities 1\n",
      "needed 1\n",
      "by 1\n",
      "other 1\n",
      "modules 1\n"
     ]
    }
   ],
   "source": [
    "for words in counts:\n",
    "    print(words,frequency[words])"
   ]
  },
  {
   "cell_type": "code",
   "execution_count": null,
   "metadata": {},
   "outputs": [],
   "source": []
  }
 ],
 "metadata": {
  "kernelspec": {
   "display_name": "Python 3",
   "language": "python",
   "name": "python3"
  },
  "language_info": {
   "codemirror_mode": {
    "name": "ipython",
    "version": 3
   },
   "file_extension": ".py",
   "mimetype": "text/x-python",
   "name": "python",
   "nbconvert_exporter": "python",
   "pygments_lexer": "ipython3",
   "version": "3.7.3"
  }
 },
 "nbformat": 4,
 "nbformat_minor": 2
}
